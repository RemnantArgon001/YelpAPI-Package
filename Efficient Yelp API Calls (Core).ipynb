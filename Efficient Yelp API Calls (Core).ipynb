{
 "cells": [
  {
   "cell_type": "code",
   "execution_count": 1,
   "metadata": {},
   "outputs": [],
   "source": [
    "# Standard Imports\n",
    "import numpy as np\n",
    "import pandas as pd\n",
    "import matplotlib.pyplot as plt\n",
    "import seaborn as sns\n",
    "# Additional Imports\n",
    "import os, json, math, time\n",
    "from yelpapi import YelpAPI\n",
    "from tqdm.notebook import tqdm_notebook"
   ]
  },
  {
   "cell_type": "code",
   "execution_count": 2,
   "metadata": {},
   "outputs": [],
   "source": [
    "# Load API Credentials\n",
    "with open('/Users/tanma/.secret/yelp_api.json') as f:   #use your path here!\n",
    "    login = json.load(f)\n",
    "# Instantiate YelpAPI Variable\n",
    "yelp_api = YelpAPI(login['api-key'], timeout_s=5.0)"
   ]
  },
  {
   "cell_type": "code",
   "execution_count": 3,
   "metadata": {},
   "outputs": [],
   "source": [
    "LOCATION = 'Austin, TX,78701'\n",
    "TERM = 'Ramen'"
   ]
  },
  {
   "cell_type": "code",
   "execution_count": 5,
   "metadata": {},
   "outputs": [
    {
     "data": {
      "text/plain": [
       "'Data/results_in_progress_Ramen.json'"
      ]
     },
     "execution_count": 5,
     "metadata": {},
     "output_type": "execute_result"
    }
   ],
   "source": [
    "JSON_FILE = f\"Data/results_in_progress_Ramen.json\"\n",
    "JSON_FILE"
   ]
  },
  {
   "cell_type": "code",
   "execution_count": 6,
   "metadata": {},
   "outputs": [
    {
     "name": "stdout",
     "output_type": "stream",
     "text": [
      "[i] Data/results_in_progress_Ramen.json not found. Saving empty list to file.\n"
     ]
    }
   ],
   "source": [
    "## Check if JSON_FILE exists\n",
    "file_exists = os.path.isfile(JSON_FILE)\n",
    "## If it does not exist: \n",
    "if file_exists == False:\n",
    "    \n",
    "    ## CREATE ANY NEEDED FOLDERS\n",
    "    # Get the Folder Name only\n",
    "    folder = os.path.dirname(JSON_FILE)\n",
    "    ## If JSON_FILE included a folder:\n",
    "    if len(folder)>0:\n",
    "        # create the folder\n",
    "        os.makedirs(folder,exist_ok=True)\n",
    "        \n",
    "        \n",
    "    ## INFORM USER AND SAVE EMPTY LIST\n",
    "    print(f\"[i] {JSON_FILE} not found. Saving empty list to file.\")\n",
    "    \n",
    "    \n",
    "    ## save the first page of results\n",
    "    with open(JSON_FILE,'w') as f:\n",
    "        json.dump([],f)  \n",
    "## If it exists, inform user\n",
    "else:\n",
    "    print(f\"[i] {JSON_FILE} already exists.\")"
   ]
  },
  {
   "cell_type": "code",
   "execution_count": 7,
   "metadata": {},
   "outputs": [
    {
     "name": "stdout",
     "output_type": "stream",
     "text": [
      "- 0 previous results found.\n"
     ]
    }
   ],
   "source": [
    "with open(JSON_FILE,'r') as f:\n",
    "    previous_results = json.load(f)\n",
    "    \n",
    "## set offset based on previous results\n",
    "n_results = len(previous_results)\n",
    "print(f'- {n_results} previous results found.')"
   ]
  },
  {
   "cell_type": "code",
   "execution_count": 8,
   "metadata": {},
   "outputs": [
    {
     "data": {
      "text/plain": [
       "dict_keys(['businesses', 'total', 'region'])"
      ]
     },
     "execution_count": 8,
     "metadata": {},
     "output_type": "execute_result"
    }
   ],
   "source": [
    "# use our yelp_api variable's search_query method to perform our API call\n",
    "results = yelp_api.search_query(location=LOCATION,\n",
    "                                term=TERM,\n",
    "                               offset=n_results)\n",
    "results.keys()"
   ]
  },
  {
   "cell_type": "code",
   "execution_count": 9,
   "metadata": {},
   "outputs": [
    {
     "data": {
      "text/plain": [
       "77"
      ]
     },
     "execution_count": 9,
     "metadata": {},
     "output_type": "execute_result"
    }
   ],
   "source": [
    "total_results = results['total']\n",
    "total_results"
   ]
  },
  {
   "cell_type": "code",
   "execution_count": 10,
   "metadata": {},
   "outputs": [
    {
     "data": {
      "text/plain": [
       "20"
      ]
     },
     "execution_count": 10,
     "metadata": {},
     "output_type": "execute_result"
    }
   ],
   "source": [
    "## How many did we get the details for?\n",
    "results_per_page = len(results['businesses'])\n",
    "results_per_page"
   ]
  },
  {
   "cell_type": "code",
   "execution_count": 11,
   "metadata": {},
   "outputs": [
    {
     "data": {
      "text/plain": [
       "4"
      ]
     },
     "execution_count": 11,
     "metadata": {},
     "output_type": "execute_result"
    }
   ],
   "source": [
    "# Use math.ceil to round up for the total number of pages of results.\n",
    "n_pages = math.ceil((results['total']-n_results)/ results_per_page)\n",
    "n_pages\n"
   ]
  },
  {
   "cell_type": "code",
   "execution_count": 12,
   "metadata": {},
   "outputs": [],
   "source": [
    "previous_results.extend(results['businesses'])  \n",
    "with open(JSON_FILE,'w') as f:\n",
    "     json.dump(previous_results,f)"
   ]
  },
  {
   "cell_type": "code",
   "execution_count": 13,
   "metadata": {},
   "outputs": [
    {
     "data": {
      "application/vnd.jupyter.widget-view+json": {
       "model_id": "5bae4c7c14ee48d98dfd47f8fe3d7e37",
       "version_major": 2,
       "version_minor": 0
      },
      "text/plain": [
       "  0%|          | 0/4 [00:00<?, ?it/s]"
      ]
     },
     "metadata": {},
     "output_type": "display_data"
    }
   ],
   "source": [
    "from tqdm.notebook import tqdm_notebook\n",
    "import time\n",
    "for i in tqdm_notebook(range(n_pages)):\n",
    "    # adds 200 ms pause\n",
    "    time.sleep(.2) "
   ]
  },
  {
   "cell_type": "code",
   "execution_count": 14,
   "metadata": {},
   "outputs": [
    {
     "data": {
      "application/vnd.jupyter.widget-view+json": {
       "model_id": "9b662c25819d4af88f66a3d382b4184b",
       "version_major": 2,
       "version_minor": 0
      },
      "text/plain": [
       "  0%|          | 0/4 [00:00<?, ?it/s]"
      ]
     },
     "metadata": {},
     "output_type": "display_data"
    }
   ],
   "source": [
    "for i in tqdm_notebook( range(1,n_pages+1)):\n",
    "    time.sleep(.2)\n",
    "    ## Read in results in progress file and check the length\n",
    "    with open(JSON_FILE, 'r') as f:\n",
    "        previous_results = json.load(f)\n",
    "    ## save number of results for to use as offset\n",
    "    n_results = len(previous_results)\n",
    "    ## use n_results as the OFFSET \n",
    "    results = yelp_api.search_query(location=LOCATION,\n",
    "                                    term=TERM, \n",
    "                                    offset=n_results)\n",
    "    \n",
    "    ## append new results and save to file\n",
    "    previous_results.extend(results['businesses'])\n",
    "    \n",
    "#     display(previous_results)\n",
    "    with open(JSON_FILE,'w') as f:\n",
    "        json.dump(previous_results,f)"
   ]
  },
  {
   "cell_type": "code",
   "execution_count": 15,
   "metadata": {},
   "outputs": [
    {
     "data": {
      "text/html": [
       "<div>\n",
       "<style scoped>\n",
       "    .dataframe tbody tr th:only-of-type {\n",
       "        vertical-align: middle;\n",
       "    }\n",
       "\n",
       "    .dataframe tbody tr th {\n",
       "        vertical-align: top;\n",
       "    }\n",
       "\n",
       "    .dataframe thead th {\n",
       "        text-align: right;\n",
       "    }\n",
       "</style>\n",
       "<table border=\"1\" class=\"dataframe\">\n",
       "  <thead>\n",
       "    <tr style=\"text-align: right;\">\n",
       "      <th></th>\n",
       "      <th>id</th>\n",
       "      <th>alias</th>\n",
       "      <th>name</th>\n",
       "      <th>image_url</th>\n",
       "      <th>is_closed</th>\n",
       "      <th>url</th>\n",
       "      <th>review_count</th>\n",
       "      <th>categories</th>\n",
       "      <th>rating</th>\n",
       "      <th>coordinates</th>\n",
       "      <th>transactions</th>\n",
       "      <th>price</th>\n",
       "      <th>location</th>\n",
       "      <th>phone</th>\n",
       "      <th>display_phone</th>\n",
       "      <th>distance</th>\n",
       "    </tr>\n",
       "  </thead>\n",
       "  <tbody>\n",
       "    <tr>\n",
       "      <th>0</th>\n",
       "      <td>uwFa-pTQL1Rv4nULoIraNw</td>\n",
       "      <td>ramen-tatsu-ya-austin-2</td>\n",
       "      <td>Ramen Tatsu-Ya</td>\n",
       "      <td>https://s3-media4.fl.yelpcdn.com/bphoto/rNrHEy...</td>\n",
       "      <td>False</td>\n",
       "      <td>https://www.yelp.com/biz/ramen-tatsu-ya-austin...</td>\n",
       "      <td>1879</td>\n",
       "      <td>[{'alias': 'ramen', 'title': 'Ramen'}]</td>\n",
       "      <td>4.0</td>\n",
       "      <td>{'latitude': 30.253899793553, 'longitude': -97...</td>\n",
       "      <td>[]</td>\n",
       "      <td>$$</td>\n",
       "      <td>{'address1': '1234 S Lamar Blvd', 'address2': ...</td>\n",
       "      <td>+15128935561</td>\n",
       "      <td>(512) 893-5561</td>\n",
       "      <td>2455.800396</td>\n",
       "    </tr>\n",
       "    <tr>\n",
       "      <th>1</th>\n",
       "      <td>7ZU9DwctpN_tkC7EOd3C-Q</td>\n",
       "      <td>ramen-tatsu-ya-austin-6</td>\n",
       "      <td>Ramen Tatsu-Ya</td>\n",
       "      <td>https://s3-media2.fl.yelpcdn.com/bphoto/5QE3yx...</td>\n",
       "      <td>False</td>\n",
       "      <td>https://www.yelp.com/biz/ramen-tatsu-ya-austin...</td>\n",
       "      <td>585</td>\n",
       "      <td>[{'alias': 'ramen', 'title': 'Ramen'}, {'alias...</td>\n",
       "      <td>4.0</td>\n",
       "      <td>{'latitude': 30.26326, 'longitude': -97.72624}</td>\n",
       "      <td>[]</td>\n",
       "      <td>$$</td>\n",
       "      <td>{'address1': '1600 E 6th St', 'address2': None...</td>\n",
       "      <td>+15128935561</td>\n",
       "      <td>(512) 893-5561</td>\n",
       "      <td>1647.061405</td>\n",
       "    </tr>\n",
       "    <tr>\n",
       "      <th>2</th>\n",
       "      <td>yqL1P6wcSZYQAgpO3TfhBQ</td>\n",
       "      <td>kemuri-tatsu-ya-austin-2</td>\n",
       "      <td>Kemuri Tatsu-ya</td>\n",
       "      <td>https://s3-media3.fl.yelpcdn.com/bphoto/YloCTt...</td>\n",
       "      <td>False</td>\n",
       "      <td>https://www.yelp.com/biz/kemuri-tatsu-ya-austi...</td>\n",
       "      <td>784</td>\n",
       "      <td>[{'alias': 'izakaya', 'title': 'Izakaya'}, {'a...</td>\n",
       "      <td>4.0</td>\n",
       "      <td>{'latitude': 30.25386, 'longitude': -97.7129}</td>\n",
       "      <td>[delivery]</td>\n",
       "      <td>$$</td>\n",
       "      <td>{'address1': '2713 E 2nd St', 'address2': '', ...</td>\n",
       "      <td>+15128032224</td>\n",
       "      <td>(512) 803-2224</td>\n",
       "      <td>3231.061743</td>\n",
       "    </tr>\n",
       "    <tr>\n",
       "      <th>3</th>\n",
       "      <td>HKi7fd2bTzZfVB_Dz9vGng</td>\n",
       "      <td>lucky-robot-austin</td>\n",
       "      <td>Lucky Robot</td>\n",
       "      <td>https://s3-media4.fl.yelpcdn.com/bphoto/-8j6xG...</td>\n",
       "      <td>False</td>\n",
       "      <td>https://www.yelp.com/biz/lucky-robot-austin?ad...</td>\n",
       "      <td>1205</td>\n",
       "      <td>[{'alias': 'sushi', 'title': 'Sushi Bars'}, {'...</td>\n",
       "      <td>4.0</td>\n",
       "      <td>{'latitude': 30.250851476015615, 'longitude': ...</td>\n",
       "      <td>[delivery, pickup]</td>\n",
       "      <td>$$</td>\n",
       "      <td>{'address1': '1303 S Congress Ave', 'address2'...</td>\n",
       "      <td>+15124448081</td>\n",
       "      <td>(512) 444-8081</td>\n",
       "      <td>1915.560385</td>\n",
       "    </tr>\n",
       "    <tr>\n",
       "      <th>4</th>\n",
       "      <td>4h-O6wPWswMbVowT_lYn9g</td>\n",
       "      <td>tiki-tatsu-ya-austin-2</td>\n",
       "      <td>Tiki Tatsu-Ya</td>\n",
       "      <td>https://s3-media3.fl.yelpcdn.com/bphoto/2kGRBo...</td>\n",
       "      <td>False</td>\n",
       "      <td>https://www.yelp.com/biz/tiki-tatsu-ya-austin-...</td>\n",
       "      <td>161</td>\n",
       "      <td>[{'alias': 'polynesian', 'title': 'Polynesian'...</td>\n",
       "      <td>4.0</td>\n",
       "      <td>{'latitude': 30.25382, 'longitude': -97.76331}</td>\n",
       "      <td>[delivery]</td>\n",
       "      <td>NaN</td>\n",
       "      <td>{'address1': '1300 S Lamar Blvd', 'address2': ...</td>\n",
       "      <td>+15127723700</td>\n",
       "      <td>(512) 772-3700</td>\n",
       "      <td>2473.601679</td>\n",
       "    </tr>\n",
       "  </tbody>\n",
       "</table>\n",
       "</div>"
      ],
      "text/plain": [
       "                       id                     alias             name  \\\n",
       "0  uwFa-pTQL1Rv4nULoIraNw   ramen-tatsu-ya-austin-2   Ramen Tatsu-Ya   \n",
       "1  7ZU9DwctpN_tkC7EOd3C-Q   ramen-tatsu-ya-austin-6   Ramen Tatsu-Ya   \n",
       "2  yqL1P6wcSZYQAgpO3TfhBQ  kemuri-tatsu-ya-austin-2  Kemuri Tatsu-ya   \n",
       "3  HKi7fd2bTzZfVB_Dz9vGng        lucky-robot-austin      Lucky Robot   \n",
       "4  4h-O6wPWswMbVowT_lYn9g    tiki-tatsu-ya-austin-2    Tiki Tatsu-Ya   \n",
       "\n",
       "                                           image_url  is_closed  \\\n",
       "0  https://s3-media4.fl.yelpcdn.com/bphoto/rNrHEy...      False   \n",
       "1  https://s3-media2.fl.yelpcdn.com/bphoto/5QE3yx...      False   \n",
       "2  https://s3-media3.fl.yelpcdn.com/bphoto/YloCTt...      False   \n",
       "3  https://s3-media4.fl.yelpcdn.com/bphoto/-8j6xG...      False   \n",
       "4  https://s3-media3.fl.yelpcdn.com/bphoto/2kGRBo...      False   \n",
       "\n",
       "                                                 url  review_count  \\\n",
       "0  https://www.yelp.com/biz/ramen-tatsu-ya-austin...          1879   \n",
       "1  https://www.yelp.com/biz/ramen-tatsu-ya-austin...           585   \n",
       "2  https://www.yelp.com/biz/kemuri-tatsu-ya-austi...           784   \n",
       "3  https://www.yelp.com/biz/lucky-robot-austin?ad...          1205   \n",
       "4  https://www.yelp.com/biz/tiki-tatsu-ya-austin-...           161   \n",
       "\n",
       "                                          categories  rating  \\\n",
       "0             [{'alias': 'ramen', 'title': 'Ramen'}]     4.0   \n",
       "1  [{'alias': 'ramen', 'title': 'Ramen'}, {'alias...     4.0   \n",
       "2  [{'alias': 'izakaya', 'title': 'Izakaya'}, {'a...     4.0   \n",
       "3  [{'alias': 'sushi', 'title': 'Sushi Bars'}, {'...     4.0   \n",
       "4  [{'alias': 'polynesian', 'title': 'Polynesian'...     4.0   \n",
       "\n",
       "                                         coordinates        transactions  \\\n",
       "0  {'latitude': 30.253899793553, 'longitude': -97...                  []   \n",
       "1     {'latitude': 30.26326, 'longitude': -97.72624}                  []   \n",
       "2      {'latitude': 30.25386, 'longitude': -97.7129}          [delivery]   \n",
       "3  {'latitude': 30.250851476015615, 'longitude': ...  [delivery, pickup]   \n",
       "4     {'latitude': 30.25382, 'longitude': -97.76331}          [delivery]   \n",
       "\n",
       "  price                                           location         phone  \\\n",
       "0    $$  {'address1': '1234 S Lamar Blvd', 'address2': ...  +15128935561   \n",
       "1    $$  {'address1': '1600 E 6th St', 'address2': None...  +15128935561   \n",
       "2    $$  {'address1': '2713 E 2nd St', 'address2': '', ...  +15128032224   \n",
       "3    $$  {'address1': '1303 S Congress Ave', 'address2'...  +15124448081   \n",
       "4   NaN  {'address1': '1300 S Lamar Blvd', 'address2': ...  +15127723700   \n",
       "\n",
       "    display_phone     distance  \n",
       "0  (512) 893-5561  2455.800396  \n",
       "1  (512) 893-5561  1647.061405  \n",
       "2  (512) 803-2224  3231.061743  \n",
       "3  (512) 444-8081  1915.560385  \n",
       "4  (512) 772-3700  2473.601679  "
      ]
     },
     "metadata": {},
     "output_type": "display_data"
    },
    {
     "data": {
      "text/html": [
       "<div>\n",
       "<style scoped>\n",
       "    .dataframe tbody tr th:only-of-type {\n",
       "        vertical-align: middle;\n",
       "    }\n",
       "\n",
       "    .dataframe tbody tr th {\n",
       "        vertical-align: top;\n",
       "    }\n",
       "\n",
       "    .dataframe thead th {\n",
       "        text-align: right;\n",
       "    }\n",
       "</style>\n",
       "<table border=\"1\" class=\"dataframe\">\n",
       "  <thead>\n",
       "    <tr style=\"text-align: right;\">\n",
       "      <th></th>\n",
       "      <th>id</th>\n",
       "      <th>alias</th>\n",
       "      <th>name</th>\n",
       "      <th>image_url</th>\n",
       "      <th>is_closed</th>\n",
       "      <th>url</th>\n",
       "      <th>review_count</th>\n",
       "      <th>categories</th>\n",
       "      <th>rating</th>\n",
       "      <th>coordinates</th>\n",
       "      <th>transactions</th>\n",
       "      <th>price</th>\n",
       "      <th>location</th>\n",
       "      <th>phone</th>\n",
       "      <th>display_phone</th>\n",
       "      <th>distance</th>\n",
       "    </tr>\n",
       "  </thead>\n",
       "  <tbody>\n",
       "    <tr>\n",
       "      <th>72</th>\n",
       "      <td>E1CEKrHUzjSBHfr11me8Yg</td>\n",
       "      <td>7-eleven-austin-19</td>\n",
       "      <td>7-Eleven</td>\n",
       "      <td>https://s3-media4.fl.yelpcdn.com/bphoto/PwKkEU...</td>\n",
       "      <td>False</td>\n",
       "      <td>https://www.yelp.com/biz/7-eleven-austin-19?ad...</td>\n",
       "      <td>7</td>\n",
       "      <td>[{'alias': 'convenience', 'title': 'Convenienc...</td>\n",
       "      <td>3.0</td>\n",
       "      <td>{'latitude': 30.244661, 'longitude': -97.7296488}</td>\n",
       "      <td>[delivery, pickup]</td>\n",
       "      <td>$</td>\n",
       "      <td>{'address1': '1705 S Lakeshore Blvd', 'address...</td>\n",
       "      <td>+15124417595</td>\n",
       "      <td>(512) 441-7595</td>\n",
       "      <td>2807.881326</td>\n",
       "    </tr>\n",
       "    <tr>\n",
       "      <th>73</th>\n",
       "      <td>WlPy1pelng2-VnpmywiQmQ</td>\n",
       "      <td>7-eleven-austin-22</td>\n",
       "      <td>7-Eleven</td>\n",
       "      <td>https://s3-media1.fl.yelpcdn.com/bphoto/qdv0bs...</td>\n",
       "      <td>False</td>\n",
       "      <td>https://www.yelp.com/biz/7-eleven-austin-22?ad...</td>\n",
       "      <td>16</td>\n",
       "      <td>[{'alias': 'convenience', 'title': 'Convenienc...</td>\n",
       "      <td>1.5</td>\n",
       "      <td>{'latitude': 30.2259992, 'longitude': -97.7703...</td>\n",
       "      <td>[delivery, pickup]</td>\n",
       "      <td>$</td>\n",
       "      <td>{'address1': '601 W Ben White Blvd', 'address2...</td>\n",
       "      <td>+15124442828</td>\n",
       "      <td>(512) 444-2828</td>\n",
       "      <td>5291.223148</td>\n",
       "    </tr>\n",
       "    <tr>\n",
       "      <th>74</th>\n",
       "      <td>djQEHCTOJsdD3a33Aa9lbA</td>\n",
       "      <td>7-eleven-austin-7</td>\n",
       "      <td>7-Eleven</td>\n",
       "      <td>https://s3-media3.fl.yelpcdn.com/bphoto/pWiM6o...</td>\n",
       "      <td>False</td>\n",
       "      <td>https://www.yelp.com/biz/7-eleven-austin-7?adj...</td>\n",
       "      <td>15</td>\n",
       "      <td>[{'alias': 'convenience', 'title': 'Convenienc...</td>\n",
       "      <td>2.5</td>\n",
       "      <td>{'latitude': 30.2439924, 'longitude': -97.7822...</td>\n",
       "      <td>[delivery, pickup]</td>\n",
       "      <td>$</td>\n",
       "      <td>{'address1': '2820 S Lamar', 'address2': '', '...</td>\n",
       "      <td>+15124473119</td>\n",
       "      <td>(512) 447-3119</td>\n",
       "      <td>4583.698666</td>\n",
       "    </tr>\n",
       "    <tr>\n",
       "      <th>75</th>\n",
       "      <td>aUCvtmP_nJQwzzxYZHRmtw</td>\n",
       "      <td>7-eleven-austin-57</td>\n",
       "      <td>7-Eleven</td>\n",
       "      <td>https://s3-media2.fl.yelpcdn.com/bphoto/2OMj1n...</td>\n",
       "      <td>False</td>\n",
       "      <td>https://www.yelp.com/biz/7-eleven-austin-57?ad...</td>\n",
       "      <td>6</td>\n",
       "      <td>[{'alias': 'convenience', 'title': 'Convenienc...</td>\n",
       "      <td>2.5</td>\n",
       "      <td>{'latitude': 30.25795590261023, 'longitude': -...</td>\n",
       "      <td>[delivery, pickup]</td>\n",
       "      <td>$</td>\n",
       "      <td>{'address1': '863 Airport Blv', 'address2': ''...</td>\n",
       "      <td>+15123850821</td>\n",
       "      <td>(512) 385-0821</td>\n",
       "      <td>4834.341550</td>\n",
       "    </tr>\n",
       "    <tr>\n",
       "      <th>76</th>\n",
       "      <td>E0Y_WKC62Zv7pRuZCVo87w</td>\n",
       "      <td>7-eleven-austin-9</td>\n",
       "      <td>7-Eleven</td>\n",
       "      <td>https://s3-media3.fl.yelpcdn.com/bphoto/xdlYPQ...</td>\n",
       "      <td>False</td>\n",
       "      <td>https://www.yelp.com/biz/7-eleven-austin-9?adj...</td>\n",
       "      <td>15</td>\n",
       "      <td>[{'alias': 'convenience', 'title': 'Convenienc...</td>\n",
       "      <td>2.0</td>\n",
       "      <td>{'latitude': 30.2320290133261, 'longitude': -9...</td>\n",
       "      <td>[delivery, pickup]</td>\n",
       "      <td>$</td>\n",
       "      <td>{'address1': '1747 East Oltorf', 'address2': N...</td>\n",
       "      <td>+15124417508</td>\n",
       "      <td>(512) 441-7508</td>\n",
       "      <td>3947.510455</td>\n",
       "    </tr>\n",
       "  </tbody>\n",
       "</table>\n",
       "</div>"
      ],
      "text/plain": [
       "                        id               alias      name  \\\n",
       "72  E1CEKrHUzjSBHfr11me8Yg  7-eleven-austin-19  7-Eleven   \n",
       "73  WlPy1pelng2-VnpmywiQmQ  7-eleven-austin-22  7-Eleven   \n",
       "74  djQEHCTOJsdD3a33Aa9lbA   7-eleven-austin-7  7-Eleven   \n",
       "75  aUCvtmP_nJQwzzxYZHRmtw  7-eleven-austin-57  7-Eleven   \n",
       "76  E0Y_WKC62Zv7pRuZCVo87w   7-eleven-austin-9  7-Eleven   \n",
       "\n",
       "                                            image_url  is_closed  \\\n",
       "72  https://s3-media4.fl.yelpcdn.com/bphoto/PwKkEU...      False   \n",
       "73  https://s3-media1.fl.yelpcdn.com/bphoto/qdv0bs...      False   \n",
       "74  https://s3-media3.fl.yelpcdn.com/bphoto/pWiM6o...      False   \n",
       "75  https://s3-media2.fl.yelpcdn.com/bphoto/2OMj1n...      False   \n",
       "76  https://s3-media3.fl.yelpcdn.com/bphoto/xdlYPQ...      False   \n",
       "\n",
       "                                                  url  review_count  \\\n",
       "72  https://www.yelp.com/biz/7-eleven-austin-19?ad...             7   \n",
       "73  https://www.yelp.com/biz/7-eleven-austin-22?ad...            16   \n",
       "74  https://www.yelp.com/biz/7-eleven-austin-7?adj...            15   \n",
       "75  https://www.yelp.com/biz/7-eleven-austin-57?ad...             6   \n",
       "76  https://www.yelp.com/biz/7-eleven-austin-9?adj...            15   \n",
       "\n",
       "                                           categories  rating  \\\n",
       "72  [{'alias': 'convenience', 'title': 'Convenienc...     3.0   \n",
       "73  [{'alias': 'convenience', 'title': 'Convenienc...     1.5   \n",
       "74  [{'alias': 'convenience', 'title': 'Convenienc...     2.5   \n",
       "75  [{'alias': 'convenience', 'title': 'Convenienc...     2.5   \n",
       "76  [{'alias': 'convenience', 'title': 'Convenienc...     2.0   \n",
       "\n",
       "                                          coordinates        transactions  \\\n",
       "72  {'latitude': 30.244661, 'longitude': -97.7296488}  [delivery, pickup]   \n",
       "73  {'latitude': 30.2259992, 'longitude': -97.7703...  [delivery, pickup]   \n",
       "74  {'latitude': 30.2439924, 'longitude': -97.7822...  [delivery, pickup]   \n",
       "75  {'latitude': 30.25795590261023, 'longitude': -...  [delivery, pickup]   \n",
       "76  {'latitude': 30.2320290133261, 'longitude': -9...  [delivery, pickup]   \n",
       "\n",
       "   price                                           location         phone  \\\n",
       "72     $  {'address1': '1705 S Lakeshore Blvd', 'address...  +15124417595   \n",
       "73     $  {'address1': '601 W Ben White Blvd', 'address2...  +15124442828   \n",
       "74     $  {'address1': '2820 S Lamar', 'address2': '', '...  +15124473119   \n",
       "75     $  {'address1': '863 Airport Blv', 'address2': ''...  +15123850821   \n",
       "76     $  {'address1': '1747 East Oltorf', 'address2': N...  +15124417508   \n",
       "\n",
       "     display_phone     distance  \n",
       "72  (512) 441-7595  2807.881326  \n",
       "73  (512) 444-2828  5291.223148  \n",
       "74  (512) 447-3119  4583.698666  \n",
       "75  (512) 385-0821  4834.341550  \n",
       "76  (512) 441-7508  3947.510455  "
      ]
     },
     "metadata": {},
     "output_type": "display_data"
    }
   ],
   "source": [
    "final_df = pd.read_json(JSON_FILE)\n",
    "display(final_df.head(), final_df.tail())"
   ]
  },
  {
   "cell_type": "code",
   "execution_count": 16,
   "metadata": {},
   "outputs": [
    {
     "data": {
      "text/plain": [
       "0"
      ]
     },
     "execution_count": 16,
     "metadata": {},
     "output_type": "execute_result"
    }
   ],
   "source": [
    "# check for duplicate IDs\n",
    "final_df.duplicated(subset='id').sum()"
   ]
  },
  {
   "cell_type": "code",
   "execution_count": 18,
   "metadata": {},
   "outputs": [],
   "source": [
    "# save the final results to a compressed csv\n",
    "final_df.to_csv('Data/final_Ramen.csv.gz', compression='gzip',index=False)"
   ]
  }
 ],
 "metadata": {
  "interpreter": {
   "hash": "52c2635f6607ff696028d1a1b927722df32ca328ce3761e05fb9ef682faf1a8c"
  },
  "kernelspec": {
   "display_name": "Python 3.7.12 ('dojo-env')",
   "language": "python",
   "name": "python3"
  },
  "language_info": {
   "codemirror_mode": {
    "name": "ipython",
    "version": 3
   },
   "file_extension": ".py",
   "mimetype": "text/x-python",
   "name": "python",
   "nbconvert_exporter": "python",
   "pygments_lexer": "ipython3",
   "version": "3.7.12"
  },
  "orig_nbformat": 4
 },
 "nbformat": 4,
 "nbformat_minor": 2
}
